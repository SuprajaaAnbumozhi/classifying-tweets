{
 "cells": [
  {
   "cell_type": "markdown",
   "id": "a4a9e36b",
   "metadata": {},
   "source": [
    "**Classifying the Geolocation of Tweets**\n",
    "\n",
    "In this file, we are going to train 1 baseline (ZeroR) and 4 Machine Learning models (Decision Tree classifier, Naive Bayes, SGD classifier and MLP classifier).\n",
    "We are going to use the trained model and use it to find the accuracy and F1 score of the development dataset.\n",
    "\n",
    "If you run the file with the provided dataset attach inside the same folder, this file will run smoothly."
   ]
  },
  {
   "cell_type": "code",
   "execution_count": 1,
   "id": "94cebdde",
   "metadata": {},
   "outputs": [],
   "source": [
    "# All the necessary libraries and packages are imported here\n",
    "\n",
    "import csv\n",
    "import re\n",
    "import nltk\n",
    "import numpy as np\n",
    "import matplotlib.pyplot as plt\n",
    "from nltk.corpus import stopwords\n",
    "from collections import Counter\n",
    "from sklearn import preprocessing\n",
    "from sklearn.pipeline import Pipeline\n",
    "from sklearn.metrics import f1_score\n",
    "from sklearn.metrics import accuracy_score\n",
    "from sklearn.metrics import confusion_matrix\n",
    "from nltk.tokenize import TweetTokenizer\n",
    "from sklearn.linear_model import SGDClassifier\n",
    "from sklearn.naive_bayes import MultinomialNB\n",
    "from sklearn.preprocessing import LabelEncoder\n",
    "from sklearn.preprocessing import OneHotEncoder\n",
    "from sklearn.tree import DecisionTreeClassifier\n",
    "from sklearn.metrics import plot_confusion_matrix\n",
    "from sklearn.neural_network import MLPClassifier\n",
    "from sklearn.feature_extraction.text import CountVectorizer\n",
    "from sklearn.feature_extraction.text import TfidfVectorizer\n",
    "from sklearn.feature_extraction.text import TfidfTransformer"
   ]
  },
  {
   "cell_type": "markdown",
   "id": "247fe4e6",
   "metadata": {},
   "source": [
    "Only the raw tweet dataset is imported here. We are going to vectorize and transform in our own conditions."
   ]
  },
  {
   "cell_type": "code",
   "execution_count": 2,
   "id": "2bc9c078",
   "metadata": {},
   "outputs": [
    {
     "data": {
      "text/plain": [
       "(11475, 11475, 133795, 133795, 12018, 0)"
      ]
     },
     "execution_count": 2,
     "metadata": {},
     "output_type": "execute_result"
    }
   ],
   "source": [
    "# Reading and storing all necessary data from files\n",
    "def csv_reader(filename):\n",
    "    x = []\n",
    "    y = []\n",
    "    with open(filename, \"r\", encoding=\"utf8\") as files:\n",
    "        reader = csv.reader(files)\n",
    "        next(reader, None) # Skipping headers\n",
    "        for data in reader:\n",
    "            x.append(data[2])\n",
    "            y.append(data[0])\n",
    "            \n",
    "        y = [] if filename.find(\"test\") != -1 else y\n",
    "    \n",
    "    return x, y\n",
    "\n",
    "x_train_full, y_train_full = csv_reader(\"data/train_full.csv\")\n",
    "x_dev_full, y_dev_full = csv_reader(\"data/dev_full.csv\")\n",
    "x_test_full, y_test_full = csv_reader(\"data/test_full.csv\")\n",
    "\n",
    "len(x_dev_full), len(y_dev_full), len(y_train_full), len(x_train_full), len(x_test_full), len(y_test_full)"
   ]
  },
  {
   "cell_type": "code",
   "execution_count": 3,
   "id": "c19e941c",
   "metadata": {},
   "outputs": [
    {
     "name": "stdout",
     "output_type": "stream",
     "text": [
      "Baseline Zero-R Metrics\n",
      "________________________\n",
      "Accuracy: 0.39\n",
      "Macro F1: 0.14\n"
     ]
    }
   ],
   "source": [
    "# Implementing a 0-R baseline\n",
    "\n",
    "class_count = Counter(y_train_full)\n",
    "\n",
    "majority_class = max(class_count, key=lambda k: class_count[k])\n",
    "y_dev_count_pred = [majority_class] * len(y_train_full)\n",
    "len(y_dev_count_pred)\n",
    "\n",
    "baseline_acc = accuracy_score(y_train_full, y_dev_count_pred)\n",
    "baseline_f1 = f1_score(y_train_full, y_dev_count_pred, average='macro')\n",
    "\n",
    "print(\"Baseline Zero-R Metrics\")\n",
    "print(\"________________________\")\n",
    "print(\"Accuracy: {}\".format(round(baseline_acc, 2)))\n",
    "print(\"Macro F1: {}\".format(round(baseline_f1, 2)))"
   ]
  },
  {
   "cell_type": "markdown",
   "id": "40bb5da7",
   "metadata": {},
   "source": [
    "Pie chart of multi class distribution in the dataset"
   ]
  },
  {
   "cell_type": "code",
   "execution_count": 4,
   "id": "0fb5cf0b",
   "metadata": {},
   "outputs": [
    {
     "data": {
      "image/png": "[encoded data removed]",
      "text/plain": [
       "<Figure size 432x288 with 1 Axes>"
      ]
     },
     "metadata": {},
     "output_type": "display_data"
    }
   ],
   "source": [
    "labels = []\n",
    "label_count = []\n",
    "for k, v in class_count.items():\n",
    "    labels.append(k)\n",
    "    label_count.append(v)\n",
    "    \n",
    "plt.pie(label_count, labels=labels, autopct='%1.2f%%')\n",
    "plt.show()"
   ]
  },
  {
   "cell_type": "markdown",
   "id": "db6a4b42",
   "metadata": {},
   "source": [
    "Tweet tokenisation is done to check if it helps improving the accuracy and F1-score"
   ]
  },
  {
   "cell_type": "code",
   "execution_count": 5,
   "id": "70e8e606",
   "metadata": {},
   "outputs": [],
   "source": [
    "tt = TweetTokenizer()\n",
    "stopwords = set(stopwords.words(\"english\"))"
   ]
  },
  {
   "cell_type": "code",
   "execution_count": 6,
   "id": "3aacfdc0",
   "metadata": {},
   "outputs": [
    {
     "data": {
      "text/plain": [
       "(133795, 11475, 12018)"
      ]
     },
     "execution_count": 6,
     "metadata": {},
     "output_type": "execute_result"
    }
   ],
   "source": [
    "def tweet_tokenisation(tweet):\n",
    "    \"\"\"\n",
    "    Function that removes all the stopwords, words that don't have alphabets\n",
    "    and user tags from a tweet\n",
    "    \"\"\"\n",
    "    processed_tweet = \"\"\n",
    "    tokenized_tweet = tt.tokenize(tweet)\n",
    "    for word in tokenized_tweet:\n",
    "            word = word.lower()\n",
    "            if re.search(\"[a-z]\", word) and word not in stopwords and not word.startswith('@'):\n",
    "                processed_tweet = processed_tweet + \" \" + word\n",
    "                \n",
    "    if not len(processed_tweet):\n",
    "        processed_tweet = \" \".join(tokenized_tweet)\n",
    "        \n",
    "    return processed_tweet.strip()\n",
    "\n",
    "\n",
    "def preprocess_data(tweets, labels):\n",
    "    x = []\n",
    "    y = []\n",
    "    \n",
    "    # For test data, there are no labels\n",
    "    if not labels:\n",
    "        labels = [''] * len(tweets)\n",
    "        \n",
    "    for tweet, label in zip(tweets, labels):\n",
    "        x.append(tweet_tokenisation(tweet))\n",
    "        y.append(label)\n",
    "\n",
    "    return x, y\n",
    "\n",
    "x_train_processed, y_train = preprocess_data(x_train_full, y_train_full)\n",
    "x_dev_processed, y_dev = preprocess_data(x_dev_full, y_dev_full)\n",
    "x_test_processed, y_test = preprocess_data(x_test_full, y_test_full)\n",
    "\n",
    "len(x_train_processed), len(x_dev_processed), len(x_test_processed)"
   ]
  },
  {
   "cell_type": "code",
   "execution_count": 7,
   "id": "f971eaa9",
   "metadata": {},
   "outputs": [],
   "source": [
    "# Reshaping y values to one hot encode\n",
    "\n",
    "reshaped_y_train = np.array(y_train).reshape(-1, 1)\n",
    "reshaped_y_dev = np.array(y_dev).reshape(-1, 1)\n",
    "\n",
    "enc = OneHotEncoder(sparse=False)\n",
    "y_enc_train = enc.fit_transform(reshaped_y_train)\n",
    "y_enc_dev = enc.transform(reshaped_y_dev)"
   ]
  },
  {
   "cell_type": "code",
   "execution_count": 8,
   "id": "56b28a14",
   "metadata": {},
   "outputs": [
    {
     "name": "stdout",
     "output_type": "stream",
     "text": [
      "SGD Classifier\n",
      "Accuracy: 0.48026143790849674\n",
      "F1 score: 0.32243211579111347\n"
     ]
    }
   ],
   "source": [
    "# SGD classifier\n",
    "\n",
    "sgd = Pipeline([('vect', CountVectorizer()),\n",
    "                ('tfidf', TfidfTransformer()),\n",
    "                ('clf', SGDClassifier(loss='hinge', penalty='l2')),\n",
    "               ])\n",
    "\n",
    "sgd.fit(x_train_full, y_train_full)\n",
    "sgd_predictions = sgd.predict(x_dev_full)\n",
    "sgd_acc = accuracy_score(y_dev_full, sgd_predictions)\n",
    "sgd_f1 = f1_score(y_dev_full, sgd_predictions, average='macro')\n",
    "        \n",
    "print(\"SGD Classifier\")\n",
    "print(\"Accuracy: {}\".format(sgd_acc))\n",
    "print(\"F1 score: {}\".format(sgd_f1))"
   ]
  },
  {
   "cell_type": "code",
   "execution_count": 9,
   "id": "e6d3e847",
   "metadata": {},
   "outputs": [],
   "source": [
    "# Vectorizing the processed tweet\n",
    "\n",
    "vec_thread = CountVectorizer()\n",
    "x_train = vec_thread.fit_transform(x_train_processed)\n",
    "x_dev = vec_thread.transform(x_dev_processed)\n",
    "x_test = vec_thread.transform(x_test_processed)"
   ]
  },
  {
   "cell_type": "code",
   "execution_count": 10,
   "id": "d3ddf5f1",
   "metadata": {},
   "outputs": [
    {
     "name": "stdout",
     "output_type": "stream",
     "text": [
      "Iteration 1, loss = 1.26250686\n",
      "Iteration 2, loss = 1.15512269\n",
      "Iteration 3, loss = 1.07493660\n",
      "Iteration 4, loss = 1.00593710\n",
      "Iteration 5, loss = 0.94611615\n",
      "MLP classifier\n",
      "Accuracy: 0.4494989106753813\n"
     ]
    },
    {
     "name": "stderr",
     "output_type": "stream",
     "text": [
      "C:\\anaconda\\envs\\keras_env\\lib\\site-packages\\sklearn\\neural_network\\_multilayer_perceptron.py:614: ConvergenceWarning: Stochastic Optimizer: Maximum iterations (5) reached and the optimization hasn't converged yet.\n",
      "  warnings.warn(\n"
     ]
    }
   ],
   "source": [
    "# MLP classifier for processed vectorised tweet\n",
    "\n",
    "mlp = MLPClassifier(hidden_layer_sizes=3, \n",
    "                    activation='relu',\n",
    "                    solver='adam', \n",
    "                    max_iter=5,\n",
    "                    verbose=True,\n",
    "                    learning_rate=\"adaptive\"\n",
    "                   ).fit(x_train, y_train)\n",
    "\n",
    "# Predicting development data\n",
    "mlp_prediction = mlp.predict(x_dev)\n",
    "\n",
    "# Accuracy calculation\n",
    "mlp_acc = accuracy_score(y_dev, mlp_prediction)\n",
    "\n",
    "print(\"MLP classifier\")\n",
    "print(\"Accuracy: {}\".format(mlp_acc))"
   ]
  },
  {
   "cell_type": "code",
   "execution_count": 11,
   "id": "5bacbf85",
   "metadata": {},
   "outputs": [],
   "source": [
    "# Processed tweets are converted to TF-IDF scores\n",
    "\n",
    "tfidf_vec = TfidfVectorizer()\n",
    "\n",
    "x_train_processed_tfidf = tfidf_vec.fit_transform(x_train_processed)\n",
    "x_dev_processed_tfidf = tfidf_vec.transform(x_dev_processed)\n",
    "x_test_processed_tfidf = tfidf_vec.transform(x_test_processed)"
   ]
  },
  {
   "cell_type": "code",
   "execution_count": 12,
   "id": "cd967503",
   "metadata": {},
   "outputs": [],
   "source": [
    "# Raw tweets are converted to TF-IDF scores\n",
    "\n",
    "vec = TfidfVectorizer()\n",
    "\n",
    "x_train_tfidf = vec.fit_transform(x_train_full)\n",
    "x_dev_tfidf = vec.transform(x_dev_full)\n",
    "x_test_tfidf = vec.transform(x_test_full)"
   ]
  },
  {
   "cell_type": "code",
   "execution_count": 13,
   "id": "976ff256",
   "metadata": {},
   "outputs": [],
   "source": [
    "le = preprocessing.LabelEncoder()\n",
    "le.fit(['MIDWEST', 'NORTHEAST', 'SOUTH', 'WEST'])\n",
    "y_train_le = le.transform(y_train)\n",
    "y_dev_le = le.transform(y_dev)"
   ]
  },
  {
   "cell_type": "code",
   "execution_count": 14,
   "id": "a9b362ca",
   "metadata": {},
   "outputs": [
    {
     "name": "stdout",
     "output_type": "stream",
     "text": [
      "Decision Tree Classifier\n",
      "Accuracy 0.37132897603485837\n"
     ]
    }
   ],
   "source": [
    "# DescisionTree Classifier using tfidf scores\n",
    "\n",
    "dtree = DecisionTreeClassifier().fit(x_train_tfidf, y_train_le)\n",
    "dtree_predictions = dtree.predict(x_dev_tfidf)\n",
    "  \n",
    "# creating a confusion matrix\n",
    "dtree_acc = accuracy_score(y_dev_le, dtree_predictions)\n",
    "dtree_cm = confusion_matrix(y_dev_le, dtree_predictions)\n",
    "print(\"Decision Tree Classifier\")\n",
    "print(\"Accuracy {}\".format(dtree_acc))"
   ]
  },
  {
   "cell_type": "code",
   "execution_count": 15,
   "id": "298e7343",
   "metadata": {},
   "outputs": [
    {
     "name": "stdout",
     "output_type": "stream",
     "text": [
      "Bayes Classifer\n",
      "Accuracy: 0.49089324618736385\n",
      "F1 score: 0.2828538305575369\n"
     ]
    }
   ],
   "source": [
    "# Multinomial Naive Bayes classifier\n",
    "\n",
    "mnb = MultinomialNB().fit(x_train_tfidf, y_train)\n",
    "mnb_predictions = mnb.predict(x_dev_tfidf)\n",
    "mnb_acc = accuracy_score(y_dev, mnb_predictions)\n",
    "mnb_f1 = f1_score(y_dev, mnb_predictions, average='macro')\n",
    "mnb_cm = confusion_matrix(y_dev, mnb_predictions)\n",
    "print(\"Bayes Classifer\")\n",
    "print(\"Accuracy: {}\".format(mnb_acc))\n",
    "print(\"F1 score: {}\".format(mnb_f1))"
   ]
  },
  {
   "cell_type": "code",
   "execution_count": 16,
   "id": "80c4e282",
   "metadata": {},
   "outputs": [
    {
     "data": {
      "text/plain": [
       "array(['SOUTH', 'SOUTH', 'SOUTH', ..., 'NORTHEAST', 'NORTHEAST',\n",
       "       'NORTHEAST'], dtype='<U9')"
      ]
     },
     "execution_count": 16,
     "metadata": {},
     "output_type": "execute_result"
    }
   ],
   "source": [
    "# Test dataset prediction using Bayes classifier\n",
    "mnb_test_prediction = mnb.predict(x_test_tfidf)\n",
    "mnb_test_prediction"
   ]
  },
  {
   "cell_type": "code",
   "execution_count": 17,
   "id": "fce84c8a",
   "metadata": {},
   "outputs": [
    {
     "data": {
      "image/png": "[encoded data removed]",
      "text/plain": [
       "<Figure size 432x288 with 2 Axes>"
      ]
     },
     "metadata": {
      "needs_background": "light"
     },
     "output_type": "display_data"
    },
    {
     "data": {
      "image/png": "[encoded data removed]",
      "text/plain": [
       "<Figure size 432x288 with 2 Axes>"
      ]
     },
     "metadata": {
      "needs_background": "light"
     },
     "output_type": "display_data"
    }
   ],
   "source": [
    "# Confusion matrix of Bayes classifier\n",
    "titles_options = [(\"Confusion matrix, without normalization\", None),\n",
    "                  (\"Normalized confusion matrix\", 'true')]\n",
    "for title, normalize in titles_options:\n",
    "    disp = plot_confusion_matrix(mnb, x_dev_tfidf, y_dev,\n",
    "                                 cmap=plt.cm.Blues,\n",
    "                                 normalize=normalize)"
   ]
  },
  {
   "cell_type": "code",
   "execution_count": 18,
   "id": "9c7a3749",
   "metadata": {},
   "outputs": [],
   "source": [
    "# CSV file writer\n",
    "def csv_writer(filename, locations):\n",
    "    with open(filename, 'w', encoding='UTF8', newline='') as f:\n",
    "        writer = csv.writer(f)\n",
    "        header = ['id', 'region']\n",
    "        \n",
    "        # write the header\n",
    "        writer.writerow(header)\n",
    "\n",
    "        # write the data\n",
    "        for idx, data in enumerate(locations):\n",
    "            writer.writerow([idx+1, data])\n",
    " \n",
    "csv_writer('mnb_model.csv', mnb_test_prediction)"
   ]
  },
  {
   "cell_type": "code",
   "execution_count": 19,
   "id": "0476ace4",
   "metadata": {},
   "outputs": [
    {
     "name": "stdout",
     "output_type": "stream",
     "text": [
      "Accuracy: 0.4589106753812636\n"
     ]
    }
   ],
   "source": [
    "# Bayes classifier for processed tweet text\n",
    "\n",
    "clf1 = MultinomialNB().fit(x_train_processed_tfidf, y_train_le)\n",
    "y_dev_pred = clf1.predict(x_dev_processed_tfidf)\n",
    "acc_mnb = accuracy_score(y_dev_le, y_dev_pred)\n",
    "print(\"Accuracy: {}\".format(acc_mnb))"
   ]
  },
  {
   "cell_type": "code",
   "execution_count": 20,
   "id": "610f08fd",
   "metadata": {},
   "outputs": [
    {
     "data": {
      "image/png": "[encoded data removed]",
      "text/plain": [
       "<Figure size 432x288 with 1 Axes>"
      ]
     },
     "metadata": {
      "needs_background": "light"
     },
     "output_type": "display_data"
    }
   ],
   "source": [
    "# Bar chart of all the model accuracy scores\n",
    "\n",
    "accuracy_plt = plt.figure()\n",
    "axis = accuracy_plt.add_axes([0,0,1,1])\n",
    "classifiers = ['ZeroR', 'Decision Tree', 'Bayes', 'MLP', 'SGD']\n",
    "accuracies = [baseline_acc, dtree_acc, mnb_acc, mlp_acc, sgd_acc]\n",
    "axis.bar(classifiers, accuracies)\n",
    "plt.show()"
   ]
  },
  {
   "cell_type": "code",
   "execution_count": 21,
   "id": "5dd66ee9",
   "metadata": {},
   "outputs": [
    {
     "data": {
      "image/png": "[encoded data removed]",
      "text/plain": [
       "<Figure size 432x288 with 1 Axes>"
      ]
     },
     "metadata": {
      "needs_background": "light"
     },
     "output_type": "display_data"
    }
   ],
   "source": [
    "# Bar chart of F1 scores\n",
    "f1_plt = plt.figure()\n",
    "axis = f1_plt.add_axes([0,0,1,1])\n",
    "classifiers = ['ZeroR', 'Bayes', 'SGD']\n",
    "f1 = [baseline_f1, mnb_f1, sgd_f1]\n",
    "axis.bar(classifiers, f1)\n",
    "plt.show()"
   ]
  },
  {
   "cell_type": "code",
   "execution_count": null,
   "id": "c6c51c36",
   "metadata": {},
   "outputs": [],
   "source": []
  }
 ],
 "metadata": {
  "kernelspec": {
   "display_name": "Python 3",
   "language": "python",
   "name": "python3"
  },
  "language_info": {
   "codemirror_mode": {
    "name": "ipython",
    "version": 3
   },
   "file_extension": ".py",
   "mimetype": "text/x-python",
   "name": "python",
   "nbconvert_exporter": "python",
   "pygments_lexer": "ipython3",
   "version": "3.8.8"
  }
 },
 "nbformat": 4,
 "nbformat_minor": 5
}
